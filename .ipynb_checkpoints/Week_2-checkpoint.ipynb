{
 "cells": [
  {
   "cell_type": "markdown",
   "metadata": {},
   "source": [
    "# Week 2 handin"
   ]
  },
  {
   "cell_type": "markdown",
   "metadata": {},
   "source": [
    "## Assignment\n",
    "Here is the text for the assignment linked to"
   ]
  },
  {
   "cell_type": "markdown",
   "metadata": {},
   "source": [
    "Har lavet hele opgaven, som virker når man kører den i docker, men den vil af en eller anden grund i ikke Jupyter. "
   ]
  },
  {
   "cell_type": "markdown",
   "metadata": {},
   "source": [
    "## Solution part 1"
   ]
  },
  {
   "cell_type": "code",
   "execution_count": null,
   "metadata": {},
   "outputs": [],
   "source": [
    "import csv\n",
    "\n",
    "def print_file_content(filename):\n",
    "    with open(filename) as csv_file:\n",
    "        csv_reader = csv.reader(csv_file)\n",
    "        for line in csv_reader:\n",
    "                print(line)\n",
    "                \n",
    "named_list = [\"Hanne\", \"Frank\", \"Hans\", \"Henning\", \"Kenneth\"]\n",
    "\n",
    "def write_list_to_file(output_file, lst):\n",
    "    with open(output_file, \"w\") as csv_file:\n",
    "        for item in named_list:\n",
    "            csv_file.write(\"{}\\n\".format(item))\n",
    "\n",
    "\n",
    "def read_csv(input_file):\n",
    "    with open(input_file) as csv_file:\n",
    "        lines = csv_file.read().splitlines()\n",
    "        print(lines)\n",
    "\n",
    "\n",
    "def userPrint_file_content(userInput):\n",
    "    with open(userInput) as csv_file:\n",
    "        csv_reader = csv.reader(csv_file)\n",
    "        for line in csv_reader:\n",
    "                print(line)\n",
    "\n",
    "\n",
    "def userWrite_list_to_file(userInput, userText = \"asdfdsf\"):\n",
    "    with open(userInput, \"w\") as csv_file:\n",
    "            csv_file.write(\"{}\\n\".format(userText))\n",
    "\n",
    "userInput = input(\"Please enter a filename you want to print out:\\n\")\n",
    "userText = input(\"Please enter a want you want to write:\\n\")\n",
    "\n",
    "\n",
    "#write_list_to_file(\"write_to_list.csv\", named_list)\n",
    "#print_file_content(\"names.csv\")\n",
    "#print_file_content(\"write_to_list.csv\")\n",
    "#read_csv(\"write_to_list.csv\")\n",
    "#userPrint_file_content(userInput)\n",
    "\n",
    "#userWrite_list_to_file(userInput, userText)\n",
    "\n",
    "\n"
   ]
  },
  {
   "cell_type": "markdown",
   "metadata": {},
   "source": [
    "## Solution part 2"
   ]
  },
  {
   "cell_type": "code",
   "execution_count": null,
   "metadata": {},
   "outputs": [],
   "source": [
    "import os\n",
    "\n",
    "def get_file_names(folderpath,out=\"output.txt\"):\n",
    "    file_list = os.listdir(folderpath)\n",
    "    with open(out, \"w\") as file_obj:\n",
    "        for entry in file_list:\n",
    "            file_obj.write(entry + \"\\n\")\n",
    "\n",
    "def get_all_file_names(folderpath,out=\"output.txt\"):\n",
    "    for root, subdirs, files in os.walk(folderpath):\n",
    "        with open(folderpath+out, \"a\") as file_obj:\n",
    "            for file in files:\n",
    "                file_obj.write(file + \"\\n\")\n",
    "    \n",
    "def print_line_one(file_names):\n",
    "    for file in file_names:\n",
    "        with open(file, \"r\") as f:\n",
    "            line = f.readlines()\n",
    "            print(line[0].strip())\n",
    "\n",
    "\n",
    "def print_emails(file_names):\n",
    "    for file in file_names:\n",
    "        with open (file, \"r\") as f:\n",
    "            lines = f.readlines()\n",
    "            for line in lines:\n",
    "                if(\"@\" in line):\n",
    "                    print(line)\n",
    "                    \n",
    "def write_headlines(md_files, out=\"output.txt\"):\n",
    "    for file in md_files:\n",
    "        with open(file, \"r\") as f:\n",
    "            lines = f.readlines()\n",
    "            for line in lines:\n",
    "                if(\"#\" in line):\n",
    "                    with open(out, \"a\") as o:\n",
    "                        o.write(line)"
   ]
  }
 ],
 "metadata": {
  "kernelspec": {
   "display_name": "Python 3",
   "language": "python",
   "name": "python3"
  },
  "language_info": {
   "codemirror_mode": {
    "name": "ipython",
    "version": 3
   },
   "file_extension": ".py",
   "mimetype": "text/x-python",
   "name": "python",
   "nbconvert_exporter": "python",
   "pygments_lexer": "ipython3",
   "version": "3.7.6"
  }
 },
 "nbformat": 4,
 "nbformat_minor": 4
}
