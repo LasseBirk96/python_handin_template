{
 "cells": [
  {
   "cell_type": "code",
   "execution_count": 55,
   "metadata": {},
   "outputs": [
    {
     "name": "stdout",
     "output_type": "stream",
     "text": [
      "            CIVILSTAND;TID;INDHOLD\n",
      "0  F Fraskilt;2008K4 2008K4;432156\n",
      "1  F Fraskilt;2020K4 2020K4;552419\n"
     ]
    }
   ],
   "source": [
    "import pandas as pd \n",
    "url = 'https://api.statbank.dk/v1/data/FOLK1A/CSV?valuePresentation=CodeAndValue&delimiter=Semicolon&CIVILSTAND=F&Tid=2008K4%2C2020K4'\n",
    "dst = pd.read_csv(url)\n",
    "dst.to_csv('dk-stat-all-tables.csv', encoding='utf-8', index=False)\n",
    "\n",
    "\n",
    "\n",
    "fraskilt2008 = dst.loc[0:1]\n",
    "fraskilt2020 = dst.loc[1]\n",
    "\n",
    "\n",
    "\n",
    "\n",
    "\n",
    "print(fraskilt2008)\n",
    "\n",
    "\n",
    "\n"
   ]
  },
  {
   "cell_type": "code",
   "execution_count": null,
   "metadata": {},
   "outputs": [],
   "source": []
  },
  {
   "cell_type": "code",
   "execution_count": null,
   "metadata": {},
   "outputs": [],
   "source": []
  }
 ],
 "metadata": {
  "kernelspec": {
   "display_name": "Python 3",
   "language": "python",
   "name": "python3"
  },
  "language_info": {
   "codemirror_mode": {
    "name": "ipython",
    "version": 3
   },
   "file_extension": ".py",
   "mimetype": "text/x-python",
   "name": "python",
   "nbconvert_exporter": "python",
   "pygments_lexer": "ipython3",
   "version": "3.7.6"
  }
 },
 "nbformat": 4,
 "nbformat_minor": 4
}
