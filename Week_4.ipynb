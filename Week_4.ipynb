{
 "cells": [
  {
   "cell_type": "code",
   "execution_count": null,
   "metadata": {},
   "outputs": [],
   "source": [
    "Jeg har lavet alle opgaver udover ekstra opgaver. "
   ]
  },
  {
   "cell_type": "code",
   "execution_count": null,
   "metadata": {},
   "outputs": [],
   "source": [
    "#Exerise 1\n",
    "import numpy as np\n",
    "\n",
    "#1.1 Open the file './data/befkbhalderstatkode.csv'\n",
    "filename = 'befkbhalderstatkode.csv' \n",
    "\n",
    "#1.2 Turn the csv file into a numpy ndarray\n",
    "data = np.genfromtxt(filename, delimiter=',', dtype=np.uint, skip_header=1)\n",
    "\n",
    "#1.3 Find out how many people lived in each of the 11 areas in 2015\n",
    "neighb = {1: 'Indre By', 2: 'Østerbro', 3: 'Nørrebro', 4: 'Vesterbro/Kgs. Enghave', \n",
    "       5: 'Valby', 6: 'Vanløse', 7: 'Brønshøj-Husum', 8: 'Bispebjerg', 9: 'Amager Øst', \n",
    "       10: 'Amager Vest', 99: 'Udenfor'}\n",
    "\n",
    "mask_indre_by = (data[:, 0] == 2015) & (data[:, 1] == 1)\n",
    "print(\"Sum of all people living in Indre By in 2015:\",np.sum(data[mask_indre_by][:, 4]))\n",
    "\n",
    "mask_østerbro = (data[:, 0] == 2015) & (data[:, 1] ==2)\n",
    "print(\"Sum of all people living in Østerbro in 2015:\", np.sum(data[mask_østerbro][:, 4]))\n",
    "\n",
    "mask_nørrebro = (data[:, 0] == 2015) & (data[:, 1] == 3)\n",
    "print(\"Sum of all people living in Nørrebro in 2015:\",np.sum(data[mask_indre_by][:, 4]))\n",
    "\n",
    "mask_vesterbro = (data[:, 0] == 2015) & (data[:, 1] == 4)\n",
    "print(\"Sum of all people living in Vesterbro in 2015:\",np.sum(data[mask_indre_by][:, 4]))\n",
    "\n",
    "mask_valby = (data[:, 0] == 2015) & (data[:, 1] == 5)\n",
    "print(\"Sum of all people living in Valby in 2015:\",np.sum(data[mask_valby][:, 4]))\n",
    "\n",
    "mask_vanløse = (data[:, 0] == 2015) & (data[:, 1] == 6)\n",
    "print(\"Sum of all people living in Vanløse in 2015:\",np.sum(data[mask_vanløse][:, 4]))\n",
    "\n",
    "mask_brønshøj_husum = (data[:, 0] == 2015) & (data[:, 1] == 7)\n",
    "print(\"Sum of all people living in Brønshøj-Husum in 2015:\",np.sum(data[mask_brønshøj_husum][:, 4]))\n",
    "\n",
    "mask_bispebjerg = (data[:, 0] == 2015) & (data[:, 1] == 8)\n",
    "print(\"Sum of all people living in Bispebjerg in 2015:\",np.sum(data[mask_bispebjerg][:, 4]))\n",
    "\n",
    "mask_amager = (data[:, 0] == 2015) & (data[:, 1] == 9)\n",
    "print(\"Sum of all people living in Amager in 2015:\",np.sum(data[mask_amager][:, 4]))\n",
    "\n",
    "mask_amager_vest = (data[:, 0] == 2015) & (data[:, 1] == 10)\n",
    "print(\"Sum of all people living in Amager Vest in 2015:\",np.sum(data[mask_amager_vest][:, 4]))\n",
    "\n",
    "\n",
    "mask_udenfor = (data[:, 0] == 2015) & (data[:, 1] == 99)\n",
    "print(\"Sum of all people living in Udenfor in 2015:\",np.sum(data[mask_udenfor][:, 4]))\n",
    "\n",
    "\n",
    "#1.4 Make a bar plot to show the size of each city area from the smallest to the largest\n",
    "import matplotlib.pyplot as plt \n",
    "\n",
    "\n",
    "mask_year = (data[:, 0] == 2015)\n",
    "set_of_areas = np.unique(data[:, 1])\n",
    "set_population = np.array([np.sum(data[mask_year & (data[:, 1] == area)][:, 4])\n",
    "                          for area in set_of_areas])\n",
    "plt.bar(set_of_areas, set_population, width=0.6)\n",
    "\n",
    "\n",
    "#1.5\n",
    "copenhagen_65 = (data[:, 0] == 2015) & (data[:, 2] < 65)\n",
    "np.count_nonzero(copenhagen_65)\n",
    "\n",
    "#1.6 \n",
    "copenhagenFor = (data[:, 0] == 2015) & (data[:, 2] < 65) & (data[:, 3] != 5100) \n",
    "np.count_nonzero(copenhagenFor)\n",
    "\n",
    "\n",
    "\n",
    "\n",
    "\n",
    "\n",
    "\n",
    "\n",
    "\n",
    "\n"
   ]
  },
  {
   "cell_type": "code",
   "execution_count": 72,
   "metadata": {},
   "outputs": [
    {
     "name": "stdout",
     "output_type": "stream",
     "text": [
      "[47854 47589 47538 47633 47734 48275 49109 49520 50312 50756 51039 51045\n",
      " 50869 50643 50303 50964 51466 53351 55315 57150 58411 59211 60328 61623]\n"
     ]
    },
    {
     "data": {
      "image/png": "[encoded data removed]",
      "text/plain": [
       "<Figure size 432x288 with 1 Axes>"
      ]
     },
     "metadata": {
      "needs_background": "light"
     },
     "output_type": "display_data"
    }
   ],
   "source": [
    "\n",
    "#1.7 \n",
    "year = np.unique(data[:,0])\n",
    "vb_area = (data[:, 1] == 4)\n",
    "vb_pop = np.array([np.sum(data[vb_area & (data[:,0] == years)][:,4])\n",
    "                  for years in year])\n",
    "\n",
    "\n",
    "øb_area = (data[:, 1] == 2)\n",
    "øb_pop = np.array([np.sum(data[øb_area & (data[:,0] == years)][:,4])\n",
    "                  for years in year])\n",
    "\n",
    "\n",
    "\n",
    "line1 = plt.plot(year, vb_pop, color=\"Blue\")\n",
    "line2 = plt.plot(year, øb_pop, color=\"Red\")"
   ]
  },
  {
   "cell_type": "code",
   "execution_count": null,
   "metadata": {},
   "outputs": [],
   "source": []
  }
 ],
 "metadata": {
  "kernelspec": {
   "display_name": "Python 3",
   "language": "python",
   "name": "python3"
  },
  "language_info": {
   "codemirror_mode": {
    "name": "ipython",
    "version": 3
   },
   "file_extension": ".py",
   "mimetype": "text/x-python",
   "name": "python",
   "nbconvert_exporter": "python",
   "pygments_lexer": "ipython3",
   "version": "3.7.6"
  }
 },
 "nbformat": 4,
 "nbformat_minor": 4
}
