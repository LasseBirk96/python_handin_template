{
 "cells": [
  {
   "cell_type": "markdown",
   "metadata": {},
   "source": [
    "# Week 1 handin"
   ]
  },
  {
   "cell_type": "markdown",
   "metadata": {},
   "source": [
    "## 01 Assignment\n",
    "http://127.0.0.1:8888/notebooks/01-Exercise.ipynb"
   ]
  },
  {
   "cell_type": "markdown",
   "metadata": {},
   "source": [
    "## 02 Status\n",
    "\n",
    "Jeg lavede alle opgaver udover ekstraopgaven. Det krævede meget research at lave dem, men jeg fik meget ud af opgaven og er allerede blevet klart bedre til python! Jeg læste også ugens materiale. "
   ]
  },
  {
   "cell_type": "markdown",
   "metadata": {},
   "source": [
    "## 03 Solution part 1"
   ]
  },
  {
   "cell_type": "code",
   "execution_count": 1,
   "metadata": {},
   "outputs": [],
   "source": [
    "named_list = [\"Hanne\",\"Frank\",\"Hans\",\"Henning\",\"Kenneth\"]\n",
    "letters = [\"H\"]\n",
    "sort_names = [names for names in named_list if(names[0] in letters)]\n",
    "sort_names\n",
    "\n",
    "\n",
    "\n"
   ]
  },
  {
   "cell_type": "code",
   "execution_count": 2,
   "metadata": {},
   "outputs": [
    {
     "data": {
      "text/plain": [
       "[1,\n",
       " 4,\n",
       " 7,\n",
       " 10,\n",
       " 13,\n",
       " 16,\n",
       " 19,\n",
       " 22,\n",
       " 25,\n",
       " 28,\n",
       " 31,\n",
       " 34,\n",
       " 37,\n",
       " 40,\n",
       " 43,\n",
       " 46,\n",
       " 49,\n",
       " 52,\n",
       " 55,\n",
       " 58,\n",
       " 61,\n",
       " 64,\n",
       " 67,\n",
       " 70,\n",
       " 73,\n",
       " 76,\n",
       " 79,\n",
       " 82,\n",
       " 85,\n",
       " 88,\n",
       " 91,\n",
       " 94,\n",
       " 97,\n",
       " 100]"
      ]
     },
     "execution_count": 2,
     "metadata": {},
     "output_type": "execute_result"
    }
   ],
   "source": [
    "numbered_list = list(range(1, 101, 3))\n",
    "numbered_list"
   ]
  },
  {
   "cell_type": "code",
   "execution_count": 3,
   "metadata": {},
   "outputs": [
    {
     "name": "stdout",
     "output_type": "stream",
     "text": [
      "[5, 6, 5, 6]\n",
      "['Lasse', 'Daniel', 'Artem', 'Jhonny']\n",
      "((5, 'Lasse'), (6, 'Daniel'), (5, 'Artem'), (6, 'Jhonny'))\n"
     ]
    }
   ],
   "source": [
    "def convert(list): \n",
    "    return tuple(list) \n",
    "\n",
    "yeet = [\"Lasse\", \"Daniel\", \"Artem\", \"Jhonny\"] \n",
    "variable = []\n",
    "for word in yeet: variable.append(len(word))\n",
    "\n",
    "\n",
    "\n",
    "print(variable)\n",
    "print(yeet)\n",
    "\n",
    "otherList = zip(variable, yeet)\n",
    "\n",
    "print(convert(otherList)) \n",
    "\n",
    "\n"
   ]
  },
  {
   "cell_type": "code",
   "execution_count": 4,
   "metadata": {},
   "outputs": [
    {
     "data": {
      "text/plain": [
       "[23, 3]"
      ]
     },
     "execution_count": 4,
     "metadata": {},
     "output_type": "execute_result"
    }
   ],
   "source": [
    "str = \"Jeg har 23 æbler, men kun 3 kiwier\"\n",
    "[int(s) for s in str.split() if s.isdigit()]\n"
   ]
  },
  {
   "cell_type": "code",
   "execution_count": 5,
   "metadata": {},
   "outputs": [
    {
     "data": {
      "text/plain": [
       "['11',\n",
       " '12',\n",
       " '13',\n",
       " '14',\n",
       " '15',\n",
       " '16',\n",
       " '21',\n",
       " '22',\n",
       " '23',\n",
       " '24',\n",
       " '25',\n",
       " '26',\n",
       " '31',\n",
       " '32',\n",
       " '33',\n",
       " '34',\n",
       " '35',\n",
       " '36',\n",
       " '41',\n",
       " '42',\n",
       " '43',\n",
       " '44',\n",
       " '45',\n",
       " '46',\n",
       " '51',\n",
       " '52',\n",
       " '53',\n",
       " '54',\n",
       " '55',\n",
       " '56',\n",
       " '61',\n",
       " '62',\n",
       " '63',\n",
       " '64',\n",
       " '65',\n",
       " '66']"
      ]
     },
     "execution_count": 5,
     "metadata": {},
     "output_type": "execute_result"
    }
   ],
   "source": [
    "dice1 = [\"1\",\"2\",\"3\",\"4\",\"5\",\"6\"]\n",
    "dice2 = [\"1\",\"2\",\"3\",\"4\",\"5\",\"6\"]\n",
    "\n",
    "combo = [d1 + d2 for d1 in dice1 for d2 in dice2]\n",
    "combo\n"
   ]
  },
  {
   "cell_type": "markdown",
   "metadata": {},
   "source": [
    "## 04 Solution part 2"
   ]
  },
  {
   "cell_type": "code",
   "execution_count": 15,
   "metadata": {},
   "outputs": [
    {
     "name": "stdout",
     "output_type": "stream",
     "text": [
      "{21: 'Charlies Book Of Life', 23: 'Henry, A Wonderful Life', 20: 'Russian Spy Thriller'}\n"
     ]
    }
   ],
   "source": [
    "pairs = [\"Charlies Book Of Life\",\"Henry, A Wonderful Life\", \"Russian Spy Thriller\"] \n",
    "variable = []\n",
    "for word in pairs: variable.append(len(word))\n",
    "\n",
    "otherList = dict(zip(variable, pairs))\n",
    "\n",
    "print(otherList)\n",
    "\n"
   ]
  },
  {
   "cell_type": "code",
   "execution_count": 16,
   "metadata": {},
   "outputs": [
    {
     "name": "stdout",
     "output_type": "stream",
     "text": [
      "{2.0: 4, 2.449489742783178: 6, 2.8284271247461903: 8, 3.4641016151377544: 12, 3.7416573867739413: 14}\n"
     ]
    }
   ],
   "source": [
    "import math\n",
    "\n",
    "number=[4,6,8,12,14]\n",
    "\n",
    "rootedNumber = []\n",
    "\n",
    "for value in number: rootedNumber.append(math.sqrt(value))\n",
    "    \n",
    "    \n",
    "numberList = dict(zip(rootedNumber, number))\n",
    "\n",
    "print(numberList)\n",
    "\n",
    "\n"
   ]
  },
  {
   "cell_type": "code",
   "execution_count": null,
   "metadata": {},
   "outputs": [],
   "source": []
  },
  {
   "cell_type": "code",
   "execution_count": null,
   "metadata": {},
   "outputs": [],
   "source": []
  }
 ],
 "metadata": {
  "kernelspec": {
   "display_name": "Python 3",
   "language": "python",
   "name": "python3"
  },
  "language_info": {
   "codemirror_mode": {
    "name": "ipython",
    "version": 3
   },
   "file_extension": ".py",
   "mimetype": "text/x-python",
   "name": "python",
   "nbconvert_exporter": "python",
   "pygments_lexer": "ipython3",
   "version": "3.7.6"
  }
 },
 "nbformat": 4,
 "nbformat_minor": 4
}
